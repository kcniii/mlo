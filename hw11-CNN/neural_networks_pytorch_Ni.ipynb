{
  "cells": [
    {
      "cell_type": "markdown",
      "metadata": {
        "id": "SQMsLJ0UvI5S"
      },
      "source": [
        "# HW11\n",
        "## Problem 1: Computational cost of a convolutional layer\n",
        "\n",
        "for each pixel: \\\\\n",
        "$k*k*c*c$ \\\\\n",
        "for the whole image,there are w*h pixels:  \n",
        "$k*k*c*c*w*h$"
      ]
    },
    {
      "cell_type": "markdown",
      "metadata": {
        "id": "4LnuReoovI5Z"
      },
      "source": [
        "## Problem 2: Neural networks with PyTorch"
      ]
    },
    {
      "cell_type": "code",
      "execution_count": 12,
      "metadata": {
        "id": "SHTfyNByvI5a"
      },
      "outputs": [],
      "source": [
        "import torch\n",
        "import torch.nn as nn\n",
        "import torchvision\n",
        "import torchvision.transforms as transforms\n",
        "from torch.utils.data import DataLoader\n",
        "import torch.nn.functional as F\n",
        "\n",
        "import numpy as np"
      ]
    },
    {
      "cell_type": "code",
      "execution_count": null,
      "metadata": {
        "id": "x2-6lJBpwKB-"
      },
      "outputs": [],
      "source": [
        "def same_seeds(seed):\n",
        "    # random.seed(seed)\n",
        "    np.random.seed(seed)\n",
        "    torch.manual_seed(seed)\n",
        "    if torch.cuda.is_available():\n",
        "        torch.cuda.manual_seed(seed)\n",
        "        torch.cuda.manual_seed_all(seed)\n",
        "    torch.backends.cudnn.benchmark = False\n",
        "    torch.backends.cudnn.deterministic = True\n",
        "same_seeds(42)"
      ]
    },
    {
      "cell_type": "markdown",
      "metadata": {
        "id": "lziO_E0svI5d"
      },
      "source": [
        "Load CIFAR10 train and test set"
      ]
    },
    {
      "cell_type": "code",
      "execution_count": 29,
      "metadata": {
        "colab": {
          "base_uri": "https://localhost:8080/"
        },
        "id": "cenFvpaEvI5d",
        "outputId": "5ad848a4-0a08-40b9-c75f-586524c66aa4"
      },
      "outputs": [
        {
          "name": "stdout",
          "output_type": "stream",
          "text": [
            "Files already downloaded and verified\n",
            "Files already downloaded and verified\n"
          ]
        }
      ],
      "source": [
        "device = torch.device('cuda:0' if torch.cuda.is_available() else 'cpu')\n",
        "transform = transforms.Compose(\n",
        "    [transforms.ToTensor(),\n",
        "     transforms.Normalize((0.5, 0.5, 0.5), (0.5, 0.5, 0.5))]\n",
        ")\n",
        "\n",
        "batch_size = 4\n",
        "\n",
        "trainset_0 = torchvision.datasets.CIFAR10(root='./data', train=True,\n",
        "                                        download=True, transform=transform)\n",
        "testset_0 = torchvision.datasets.CIFAR10(root='./data', train=False,\n",
        "                                       download=True, transform=transform)"
      ]
    },
    {
      "cell_type": "markdown",
      "metadata": {
        "id": "f_AhPGmivI5e"
      },
      "source": [
        "1. Reducing the size of the training and test accordingly"
      ]
    },
    {
      "cell_type": "code",
      "execution_count": 53,
      "metadata": {
        "id": "jfpLO-YUrLsW"
      },
      "outputs": [],
      "source": [
        "# car: 1\n",
        "# dog: 5\n",
        "# ship: 8\n",
        "classes = {'car', 'dog', 'ship'}\n",
        "class_mapping={1:0,5:1,8:2}\n",
        "\n",
        "trainset = [ex for ex in trainset_0 if ex[1]==1 or ex[1]==5 or ex[1]==8]\n",
        "testset = [ex for ex in testset_0 if ex[1]==1 or ex[1]==5 or ex[1]==8]"
      ]
    },
    {
      "cell_type": "code",
      "execution_count": 8,
      "metadata": {
        "id": "t8lTvDdSvI5f"
      },
      "outputs": [],
      "source": [
        "trainloader = DataLoader(trainset, batch_size=batch_size,shuffle=True)\n",
        "testloader = DataLoader(testset, batch_size=batch_size,shuffle=False)\n",
        "\n",
        "train_full = DataLoader(trainset, batch_size=len(trainset),shuffle=True)\n",
        "train_X, train_y = next(iter(train_full))\n",
        "train_X, train_y = train_X.to(device),train_y.to(device)\n",
        "train_y = torch.tensor([class_mapping[label.item()] for label in train_y]).to(device)\n",
        "\n",
        "\n",
        "test_full = DataLoader(testset, batch_size=len(testset),shuffle=True)\n",
        "test_X, test_y = next(iter(test_full))\n",
        "test_X, test_y = test_X.to(device),test_y.to(device)\n",
        "test_y = torch.tensor([class_mapping[label.item()] for label in test_y]).to(device)"
      ]
    },
    {
      "cell_type": "markdown",
      "metadata": {
        "id": "oXptKw2mvI5g"
      },
      "source": [
        "2. creat model"
      ]
    },
    {
      "cell_type": "code",
      "execution_count": 9,
      "metadata": {
        "id": "evWqEHItvI5g"
      },
      "outputs": [],
      "source": [
        "class Net(nn.Module):\n",
        "    def __init__(self,inputdim):\n",
        "        super(Net,self).__init__() # 3*32*32\n",
        "        self.conv1 = nn.Conv2d(3,6,5) #input chanel, output chanel, kernel size\n",
        "        self.pool = nn.MaxPool2d(2,2)\n",
        "        self.conv2 = nn.Conv2d(6,16,5)\n",
        "        self.fc1 = nn.Linear(16*5*5,120)\n",
        "        self.fc2 = nn.Linear(120,84)\n",
        "        self.fc3 = nn.Linear(84, 3)\n",
        "\n",
        "\n",
        "    def forward(self,x):\n",
        "        x = self.pool(F.relu(self.conv1(x)))\n",
        "        x = self.pool(F.relu(self.conv2(x)))\n",
        "        x = torch.flatten(x,1) # flatten all, except the batchsize\n",
        "        x = F.relu(self.fc1(x))\n",
        "        x = F.relu(self.fc2(x))\n",
        "        x = self.fc3(x)\n",
        "        return x\n",
        "\n",
        "net = Net(3*32*32).to(device)"
      ]
    },
    {
      "cell_type": "markdown",
      "metadata": {
        "id": "guDdF5KAvI5h"
      },
      "source": [
        "3. Optimizer and loss"
      ]
    },
    {
      "cell_type": "code",
      "execution_count": 10,
      "metadata": {
        "colab": {
          "base_uri": "https://localhost:8080/"
        },
        "id": "CITJUKrJvI5i",
        "outputId": "303da407-24c7-4e78-9ab0-3ebc6f1d92b1"
      },
      "outputs": [
        {
          "name": "stdout",
          "output_type": "stream",
          "text": [
            "Epoch 1/10, Train accuracy: 83.77%\n",
            "Epoch 1/10, Test accuracy: 83.40%\n",
            "\n",
            "Epoch 2/10, Train accuracy: 87.34%\n",
            "Epoch 2/10, Test accuracy: 86.27%\n",
            "\n",
            "Epoch 3/10, Train accuracy: 89.55%\n",
            "Epoch 3/10, Test accuracy: 87.87%\n",
            "\n",
            "Epoch 4/10, Train accuracy: 92.37%\n",
            "Epoch 4/10, Test accuracy: 89.53%\n",
            "\n",
            "Epoch 5/10, Train accuracy: 92.51%\n",
            "Epoch 5/10, Test accuracy: 88.80%\n",
            "\n",
            "Epoch 6/10, Train accuracy: 93.77%\n",
            "Epoch 6/10, Test accuracy: 90.30%\n",
            "\n",
            "Epoch 7/10, Train accuracy: 95.51%\n",
            "Epoch 7/10, Test accuracy: 90.87%\n",
            "\n",
            "Epoch 8/10, Train accuracy: 96.34%\n",
            "Epoch 8/10, Test accuracy: 91.47%\n",
            "\n",
            "Epoch 9/10, Train accuracy: 95.69%\n",
            "Epoch 9/10, Test accuracy: 91.13%\n",
            "\n",
            "Epoch 10/10, Train accuracy: 96.79%\n",
            "Epoch 10/10, Test accuracy: 91.73%\n",
            "\n"
          ]
        }
      ],
      "source": [
        "criterion = nn.CrossEntropyLoss()\n",
        "optimizer = torch.optim.SGD(net.parameters(),lr = 1e-3, momentum=0.9)\n",
        "max_epochs = 10\n",
        "\n",
        "train_acc_best = 0\n",
        "test_acc_best = 0\n",
        "PATH=\"/model.pt\"\n",
        "for epoch in range(max_epochs):\n",
        "\n",
        "    for i,data in enumerate(trainloader):\n",
        "        optimizer.zero_grad()\n",
        "        X,y = data\n",
        "        X = X.to(device)\n",
        "        y = y.to(device)\n",
        "        y_mapped = torch.tensor([class_mapping[label.item()] for label in y]).to(device)\n",
        "        # forward\n",
        "        outputs = net(X)\n",
        "        loss = criterion(outputs,y_mapped)\n",
        "        #backward\n",
        "        loss.backward()\n",
        "        optimizer.step()\n",
        "\n",
        "    with torch.no_grad():\n",
        "      train_pred = net(train_X)\n",
        "      train_correct = (train_pred.argmax(dim=1)==train_y).sum()\n",
        "      train_acc = train_correct / len(train_pred)\n",
        "\n",
        "      test_pred = net(test_X)\n",
        "      test_correct = (test_pred.argmax(dim=1)==test_y).sum()\n",
        "      test_acc = test_correct / len(test_pred)\n",
        "      if test_acc_best<test_acc:\n",
        "        test_acc_best = test_acc\n",
        "        torch.save(net.state_dict(),PATH)\n",
        "\n",
        "\n",
        "    print(f\"Epoch {epoch+1}/{max_epochs}, Train accuracy: {100*train_acc:.2f}%\")\n",
        "    print(f\"Epoch {epoch+1}/{max_epochs}, Test accuracy: {100*test_acc:.2f}%\\n\")"
      ]
    },
    {
      "cell_type": "code",
      "execution_count": 11,
      "metadata": {
        "colab": {
          "base_uri": "https://localhost:8080/"
        },
        "id": "Me-gHhtSAfoJ",
        "outputId": "33ad375a-117a-43d1-a057-0525c87ab207"
      },
      "outputs": [
        {
          "name": "stdout",
          "output_type": "stream",
          "text": [
            "Accuracy for class:car   is 91.30 %\n",
            "Accuracy for class:dog   is 96.20 %\n",
            "Accuracy for class:ship  is 87.70 %\n",
            "The overall test accuracy is 91.73 %\n"
          ]
        }
      ],
      "source": [
        "classes = ['car', 'dog', 'ship']\n",
        "net_best = Net(3*32*32)\n",
        "net_best.load_state_dict(torch.load(PATH))\n",
        "\n",
        "correct_pred = {classname: 0 for classname in classes}\n",
        "total_pred = {classname: 0 for classname in classes}\n",
        "\n",
        "with torch.no_grad():\n",
        "  for data in testloader:\n",
        "    images, labels = data\n",
        "    labels = torch.tensor([class_mapping[label.item()] for label in labels]).to(device)\n",
        "    test_outputs = net_best(images)\n",
        "    _, test_preds = torch.max(test_outputs,1)\n",
        "    for label,test_pred in zip(labels,test_preds):\n",
        "      if label==test_pred:\n",
        "        correct_pred[classes[label]]+=1\n",
        "      total_pred[classes[label]]+=1\n",
        "\n",
        "total_acc = 0\n",
        "for classname, correct_count in correct_pred.items():\n",
        "  acc = 100*float(correct_count)/total_pred[classname]\n",
        "  total_acc+=acc\n",
        "  print(f\"Accuracy for class:{classname:5s} is {acc:.2f} %\")\n",
        "\n",
        "print(f\"The overall test accuracy is {total_acc/3:.2f} %\")\n"
      ]
    },
    {
      "cell_type": "markdown",
      "metadata": {
        "id": "aabWBYcdb8Cr"
      },
      "source": [
        "\n",
        "### Comparasion between two models\n",
        "\n",
        "| Class  | Convolutional Layer Accuracy | Fully Connected Layer Accuracy | Percent Increase |\n",
        "|--------|-----------------------------|---------------------------------|------------------|\n",
        "| Car    | 91.30%                      | 82.40%                          | 10.80%           |\n",
        "| Dog    | 96.20%                      | 89.70%                          | 6.89%            |\n",
        "| Ship   | 87.70%                      | 80.40%                          | 9.11%            |\n",
        "| Overall| 91.73%                      | 84.17%                          | 8.99%            |\n",
        "\n",
        "As the table shows, the performance of convolutional layer increases around 9% over all.\n",
        "\n",
        "> Indented block\n",
        "\n"
      ]
    },
    {
      "cell_type": "markdown",
      "metadata": {
        "id": "ylY5lqI2nMB1"
      },
      "source": [
        "### **P2.2 Shuffle pixels with convolutional layer**"
      ]
    },
    {
      "cell_type": "code",
      "execution_count": 54,
      "metadata": {
        "id": "QLDMEeCvnxvh"
      },
      "outputs": [],
      "source": [
        "def shuffle_pixels(image):\n",
        "    flat_image = image.flatten()  # Flatten the image into a 1D array\n",
        "    shuffled_pixels = np.random.permutation(flat_image)  # Shuffle the pixel values\n",
        "    shuffled_image = shuffled_pixels.reshape(image.shape)  # Reshape back to the original image shape\n",
        "    return shuffled_image\n",
        "\n",
        "def filter_and_shuffle(dataset):\n",
        "    shuffled_dataset = [(shuffle_pixels(ex[0]), ex[1]) for ex in dataset]\n",
        "    return shuffled_dataset"
      ]
    },
    {
      "cell_type": "code",
      "execution_count": 56,
      "metadata": {
        "id": "z7HblBiRuQ5R"
      },
      "outputs": [],
      "source": [
        "\n",
        "trainset = filter_and_shuffle(trainset)\n",
        "testset = filter_and_shuffle(testset)"
      ]
    },
    {
      "cell_type": "code",
      "execution_count": 58,
      "metadata": {
        "id": "qpCS2w-inzSU"
      },
      "outputs": [],
      "source": [
        "trainloader = DataLoader(trainset, batch_size=batch_size,shuffle=True)\n",
        "testloader = DataLoader(testset, batch_size=batch_size,shuffle=False)\n",
        "\n",
        "train_full = DataLoader(trainset, batch_size=len(trainset),shuffle=True)\n",
        "train_X, train_y = next(iter(train_full))\n",
        "train_X, train_y = train_X.to(device),train_y.to(device)\n",
        "train_y = torch.tensor([class_mapping[label.item()] for label in train_y]).to(device)\n",
        "\n",
        "\n",
        "test_full = DataLoader(testset, batch_size=len(testset),shuffle=True)\n",
        "test_X, test_y = next(iter(test_full))\n",
        "test_X, test_y = test_X.to(device),test_y.to(device)\n",
        "test_y = torch.tensor([class_mapping[label.item()] for label in test_y]).to(device)"
      ]
    },
    {
      "cell_type": "code",
      "execution_count": 59,
      "metadata": {
        "id": "1N6FLtXgn00J"
      },
      "outputs": [],
      "source": [
        "net = Net(3*32*32).to(device)\n",
        "\n",
        "criterion = nn.CrossEntropyLoss()\n",
        "optimizer = torch.optim.SGD(net.parameters(),lr = 1e-3, momentum=0.9)\n",
        "max_epochs = 10\n",
        "\n",
        "train_acc_best = 0\n",
        "test_acc_best = 0\n",
        "PATH=\"/model.pt\""
      ]
    },
    {
      "cell_type": "code",
      "execution_count": 60,
      "metadata": {
        "colab": {
          "base_uri": "https://localhost:8080/"
        },
        "id": "jsildDhFnPbO",
        "outputId": "26fd6bb4-5e29-4c5d-833d-b85255dc3053"
      },
      "outputs": [
        {
          "name": "stdout",
          "output_type": "stream",
          "text": [
            "Epoch 1/10, Train accuracy: 45.01%\n",
            "Epoch 1/10, Test accuracy: 43.80%\n",
            "\n",
            "Epoch 2/10, Train accuracy: 46.29%\n",
            "Epoch 2/10, Test accuracy: 45.17%\n",
            "\n",
            "Epoch 3/10, Train accuracy: 43.40%\n",
            "Epoch 3/10, Test accuracy: 42.10%\n",
            "\n",
            "Epoch 4/10, Train accuracy: 45.62%\n",
            "Epoch 4/10, Test accuracy: 44.80%\n",
            "\n",
            "Epoch 5/10, Train accuracy: 46.55%\n",
            "Epoch 5/10, Test accuracy: 44.83%\n",
            "\n",
            "Epoch 6/10, Train accuracy: 44.79%\n",
            "Epoch 6/10, Test accuracy: 41.97%\n",
            "\n",
            "Epoch 7/10, Train accuracy: 47.88%\n",
            "Epoch 7/10, Test accuracy: 46.00%\n",
            "\n",
            "Epoch 8/10, Train accuracy: 47.83%\n",
            "Epoch 8/10, Test accuracy: 45.97%\n",
            "\n",
            "Epoch 9/10, Train accuracy: 47.72%\n",
            "Epoch 9/10, Test accuracy: 43.80%\n",
            "\n",
            "Epoch 10/10, Train accuracy: 48.99%\n",
            "Epoch 10/10, Test accuracy: 45.07%\n",
            "\n"
          ]
        }
      ],
      "source": [
        "for epoch in range(max_epochs):\n",
        "\n",
        "    for i,data in enumerate(trainloader):\n",
        "        optimizer.zero_grad()\n",
        "        X,y = data\n",
        "        X = X.to(device)\n",
        "        y = y.to(device)\n",
        "        y_mapped = torch.tensor([class_mapping[label.item()] for label in y]).to(device)\n",
        "        # forward\n",
        "        outputs = net(X)\n",
        "        loss = criterion(outputs,y_mapped)\n",
        "        #backward\n",
        "        loss.backward()\n",
        "        optimizer.step()\n",
        "\n",
        "    with torch.no_grad():\n",
        "      train_pred = net(train_X)\n",
        "      train_correct = (train_pred.argmax(dim=1)==train_y).sum()\n",
        "      train_acc = train_correct / len(train_pred)\n",
        "\n",
        "      test_pred = net(test_X)\n",
        "      test_correct = (test_pred.argmax(dim=1)==test_y).sum()\n",
        "      test_acc = test_correct / len(test_pred)\n",
        "      if test_acc_best<test_acc:\n",
        "        test_acc_best = test_acc\n",
        "        torch.save(net.state_dict(),PATH)\n",
        "\n",
        "\n",
        "    print(f\"Epoch {epoch+1}/{max_epochs}, Train accuracy: {100*train_acc:.2f}%\")\n",
        "    print(f\"Epoch {epoch+1}/{max_epochs}, Test accuracy: {100*test_acc:.2f}%\\n\")"
      ]
    },
    {
      "cell_type": "code",
      "execution_count": 61,
      "metadata": {
        "colab": {
          "base_uri": "https://localhost:8080/"
        },
        "id": "Pvzpx2rYn6uP",
        "outputId": "9398dc33-9159-4119-88ae-bbf9693fb94e"
      },
      "outputs": [
        {
          "name": "stdout",
          "output_type": "stream",
          "text": [
            "Accuracy for class:car   is 64.10 %\n",
            "Accuracy for class:dog   is 17.20 %\n",
            "Accuracy for class:ship  is 56.70 %\n",
            "The overall test accuracy is 46.00 %\n"
          ]
        }
      ],
      "source": [
        "classes = ['car', 'dog', 'ship']\n",
        "net_best = Net(3*32*32)\n",
        "net_best.load_state_dict(torch.load(PATH))\n",
        "\n",
        "correct_pred = {classname: 0 for classname in classes}\n",
        "total_pred = {classname: 0 for classname in classes}\n",
        "\n",
        "with torch.no_grad():\n",
        "  for data in testloader:\n",
        "    images, labels = data\n",
        "    labels = torch.tensor([class_mapping[label.item()] for label in labels]).to(device)\n",
        "    test_outputs = net_best(images)\n",
        "    _, test_preds = torch.max(test_outputs,1)\n",
        "    for label,test_pred in zip(labels,test_preds):\n",
        "      if label==test_pred:\n",
        "        correct_pred[classes[label]]+=1\n",
        "      total_pred[classes[label]]+=1\n",
        "\n",
        "total_acc = 0\n",
        "for classname, correct_count in correct_pred.items():\n",
        "  acc = 100*float(correct_count)/total_pred[classname]\n",
        "  total_acc+=acc\n",
        "  print(f\"Accuracy for class:{classname:5s} is {acc:.2f} %\")\n",
        "\n",
        "print(f\"The overall test accuracy is {total_acc/3:.2f} %\")"
      ]
    },
    {
      "cell_type": "markdown",
      "metadata": {
        "id": "zIhjXRY1xgTM"
      },
      "source": [
        "### **P2.3 Fully connected layer with shuffled pixels**"
      ]
    },
    {
      "cell_type": "code",
      "execution_count": 64,
      "metadata": {
        "colab": {
          "base_uri": "https://localhost:8080/"
        },
        "id": "2SVVsg0QwYxx",
        "outputId": "108f22f5-c980-43c3-c75e-e178ceb270a9"
      },
      "outputs": [
        {
          "name": "stdout",
          "output_type": "stream",
          "text": [
            "Epoch 1/10, Train accuracy: 49.64%\n",
            "Epoch 1/10, Test accuracy: 40.47%\n",
            "\n",
            "Epoch 2/10, Train accuracy: 75.16%\n",
            "Epoch 2/10, Test accuracy: 40.73%\n",
            "\n",
            "Epoch 3/10, Train accuracy: 78.29%\n",
            "Epoch 3/10, Test accuracy: 36.53%\n",
            "\n",
            "Epoch 4/10, Train accuracy: 87.03%\n",
            "Epoch 4/10, Test accuracy: 39.00%\n",
            "\n",
            "Epoch 5/10, Train accuracy: 94.77%\n",
            "Epoch 5/10, Test accuracy: 38.13%\n",
            "\n",
            "Epoch 6/10, Train accuracy: 96.12%\n",
            "Epoch 6/10, Test accuracy: 37.73%\n",
            "\n",
            "Epoch 7/10, Train accuracy: 98.02%\n",
            "Epoch 7/10, Test accuracy: 37.90%\n",
            "\n",
            "Epoch 8/10, Train accuracy: 99.39%\n",
            "Epoch 8/10, Test accuracy: 37.27%\n",
            "\n",
            "Epoch 9/10, Train accuracy: 98.19%\n",
            "Epoch 9/10, Test accuracy: 38.47%\n",
            "\n",
            "Epoch 10/10, Train accuracy: 96.52%\n",
            "Epoch 10/10, Test accuracy: 38.30%\n",
            "\n",
            "Accuracy for class:car   is 39.00 %\n",
            "Accuracy for class:dog   is 34.90 %\n",
            "Accuracy for class:ship  is 48.30 %\n",
            "The overall test accuracy is 40.73 %\n"
          ]
        }
      ],
      "source": [
        "class NetFC(nn.Module):\n",
        "    def __init__(self,inputdim):\n",
        "        super(NetFC,self).__init__()\n",
        "        self.fc1 = nn.Linear(inputdim,512)\n",
        "        self.fc2 = nn.Linear(512,3)\n",
        "\n",
        "    def forward(self,x):\n",
        "        x = torch.flatten(x,1)\n",
        "        x=F.relu(self.fc1(x))\n",
        "        x=self.fc2(x)\n",
        "        return x\n",
        "\n",
        "net = NetFC(3*32*32).to(device)\n",
        "optimizer = torch.optim.SGD(net.parameters(),lr = 1e-3, momentum=0.9)\n",
        "max_epochs = 10\n",
        "\n",
        "train_acc_best = 0\n",
        "test_acc_best = 0\n",
        "PATH=\"/model_fc.pt\"\n",
        "\n",
        "for epoch in range(max_epochs):\n",
        "\n",
        "    for i,data in enumerate(trainloader):\n",
        "        optimizer.zero_grad()\n",
        "        X,y = data\n",
        "        X = X.to(device)\n",
        "        y = y.to(device)\n",
        "        y_mapped = torch.tensor([class_mapping[label.item()] for label in y]).to(device)\n",
        "        # forward\n",
        "        outputs = net(X)\n",
        "        loss = criterion(outputs,y_mapped)\n",
        "        #backward\n",
        "        loss.backward()\n",
        "        optimizer.step()\n",
        "\n",
        "    with torch.no_grad():\n",
        "      train_pred = net(train_X)\n",
        "      train_correct = (train_pred.argmax(dim=1)==train_y).sum()\n",
        "      train_acc = train_correct / len(train_pred)\n",
        "\n",
        "      test_pred = net(test_X)\n",
        "      test_correct = (test_pred.argmax(dim=1)==test_y).sum()\n",
        "      test_acc = test_correct / len(test_pred)\n",
        "      if test_acc_best<test_acc:\n",
        "        test_acc_best = test_acc\n",
        "        torch.save(net.state_dict(),PATH)\n",
        "\n",
        "\n",
        "    print(f\"Epoch {epoch+1}/{max_epochs}, Train accuracy: {100*train_acc:.2f}%\")\n",
        "    print(f\"Epoch {epoch+1}/{max_epochs}, Test accuracy: {100*test_acc:.2f}%\\n\")\n",
        "\n",
        "\n",
        "classes = ['car', 'dog', 'ship']\n",
        "net_best = Net(3*32*32)\n",
        "net_best.load_state_dict(torch.load(PATH))\n",
        "\n",
        "correct_pred = {classname: 0 for classname in classes}\n",
        "total_pred = {classname: 0 for classname in classes}\n",
        "\n",
        "with torch.no_grad():\n",
        "  for data in testloader:\n",
        "    images, labels = data\n",
        "    labels = torch.tensor([class_mapping[label.item()] for label in labels]).to(device)\n",
        "    test_outputs = net_best(images)\n",
        "    _, test_preds = torch.max(test_outputs,1)\n",
        "    for label,test_pred in zip(labels,test_preds):\n",
        "      if label==test_pred:\n",
        "        correct_pred[classes[label]]+=1\n",
        "      total_pred[classes[label]]+=1\n",
        "\n",
        "total_acc = 0\n",
        "for classname, correct_count in correct_pred.items():\n",
        "  acc = 100*float(correct_count)/total_pred[classname]\n",
        "  total_acc+=acc\n",
        "  print(f\"Accuracy for class:{classname:5s} is {acc:.2f} %\")\n",
        "\n",
        "print(f\"The overall test accuracy is {total_acc/3:.2f} %\")"
      ]
    },
    {
      "cell_type": "markdown",
      "metadata": {
        "id": "ZoAikWy90EcF"
      },
      "source": [
        "\n",
        "\n",
        "\n",
        "| Class   | Convolutional Layer Accuracy | Fully Connected Layer Accuracy | Percent Increase |\n",
        "|---------|-----------------------------|---------------------------------|------------------|\n",
        "| Car     | 64.10%                      | 39.00%                          | 39.74%           |\n",
        "| Dog     | 17.20%                      | 34.90%                          | -102.91%         |\n",
        "| Ship    | 56.70%                      | 48.30%                          | 17.46%           |\n",
        "| Overall | 46.00%                      | 40.73%                          | 12.86%           |\n"
      ]
    },
    {
      "cell_type": "markdown",
      "metadata": {
        "id": "mlghtDdE0MOv"
      },
      "source": [
        "**Compare to normal dataset, the dataset with shuffled pixels:**\n",
        "\n",
        "1. **The fully connected model**'s best train accuracy increase from 94% to 99.%. This is because shuffle pixels introduces more complexities to the model, allowing it to learn more information. In other words, it is overfitting.It performs very well in trainning data, but fails to generalize well in testing datasets.\n",
        "\n",
        "2. For **convolutional model** both train and test accuracy drop a lot. This is because convolutional layers are designed to capture spatial features, it disrupt these spatial relations when we shuffling the pixels, resulting decrease both in train and test accuracy."
      ]
    }
  ],
  "metadata": {
    "accelerator": "GPU",
    "colab": {
      "gpuType": "T4",
      "provenance": []
    },
    "kernelspec": {
      "display_name": "Python 3",
      "name": "python3"
    },
    "language_info": {
      "codemirror_mode": {
        "name": "ipython",
        "version": 3
      },
      "file_extension": ".py",
      "mimetype": "text/x-python",
      "name": "python",
      "nbconvert_exporter": "python",
      "pygments_lexer": "ipython3",
      "version": "3.9.7"
    }
  },
  "nbformat": 4,
  "nbformat_minor": 0
}
