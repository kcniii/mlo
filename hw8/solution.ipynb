{
 "cells": [
  {
   "cell_type": "code",
   "execution_count": 1,
   "metadata": {},
   "outputs": [],
   "source": [
    "import torch\n",
    "import torch.nn as nn\n",
    "import torchvision.transforms as transforms\n",
    "import torchvision.datasets as dsets\n",
    "import numpy as np\n",
    "import matplotlib.pyplot as plt"
   ]
  },
  {
   "cell_type": "code",
   "execution_count": 2,
   "metadata": {},
   "outputs": [],
   "source": [
    "train_dataset = dsets.MNIST(root='./data', \n",
    "                            train=True, \n",
    "                            transform=transforms.ToTensor(),\n",
    "                            download=True)\n",
    "test_dataset = dsets.MNIST(root='./data', \n",
    "                           train=False, \n",
    "                           transform=transforms.ToTensor())"
   ]
  },
  {
   "cell_type": "markdown",
   "metadata": {},
   "source": [
    "Create training and test set with 500 examples of classes 5 and 8 respectively and change labels to 0 and 1. At the same time flip 30% of the labels."
   ]
  },
  {
   "cell_type": "code",
   "execution_count": 3,
   "metadata": {},
   "outputs": [],
   "source": [
    "train_set = [ex for ex in train_dataset if ex[1]==5][:500] + [ex for ex in train_dataset if ex[1]==8][:500]\n",
    "test_set = [ex for ex in test_dataset if ex[1]==5][:500] + [ex for ex in test_dataset if ex[1]==8][:500]"
   ]
  },
  {
   "cell_type": "code",
   "execution_count": 4,
   "metadata": {},
   "outputs": [],
   "source": [
    "train_set_01_images = []\n",
    "test_set_01_images = []\n",
    "train_set_01_labels = []\n",
    "test_set_01_labels = []\n",
    "num_flips = 500//3 #num_flips=0 to have no flips\n",
    "for i,ex_tr in enumerate(train_set):\n",
    "    ex_tr = list(ex_tr)\n",
    "    if ex_tr[1]==5:\n",
    "        if i<num_flips:\n",
    "            ex_tr[1]=1\n",
    "        else: \n",
    "            ex_tr[1]=0\n",
    "    else: \n",
    "        if i<num_flips+500:\n",
    "            ex_tr[1]=0\n",
    "        else: \n",
    "            ex_tr[1]=1\n",
    "    train_set_01_images.append(ex_tr[0])\n",
    "    train_set_01_labels.append(ex_tr[1])\n",
    "    \n",
    "for ex_te in test_set:\n",
    "    ex_te = list(ex_te)\n",
    "    if ex_te[1]==5:\n",
    "        ex_te[1]=0\n",
    "    else: \n",
    "        ex_te[1]=1\n",
    "    test_set_01_images.append(ex_te[0])\n",
    "    test_set_01_labels.append(ex_te[1])    \n",
    "    \n",
    "train_set_01_images = torch.stack(train_set_01_images)\n",
    "train_set_01_images = train_set_01_images.view(-1, 28*28)\n",
    "test_set_01_images = torch.stack(test_set_01_images)\n",
    "test_set_01_images = test_set_01_images.view(-1, 28*28)\n",
    "train_set_01_labels = torch.tensor(train_set_01_labels)\n",
    "test_set_01_labels = torch.tensor(test_set_01_labels)\n",
    "\n",
    "# shuffle training set\n",
    "n_sample = len(train_set_01_images)\n",
    "np.random.seed(0)\n",
    "order = np.random.permutation(n_sample)\n",
    "train_set_01_images = train_set_01_images[order]\n",
    "train_set_01_labels = train_set_01_labels[order]"
   ]
  },
  {
   "cell_type": "code",
   "execution_count": 5,
   "metadata": {},
   "outputs": [
    {
     "name": "stdout",
     "output_type": "stream",
     "text": [
      "size train set: torch.Size([1000, 784])\n",
      "size test set: torch.Size([1000, 784])\n"
     ]
    }
   ],
   "source": [
    "print(\"size train set:\", train_set_01_images.shape) \n",
    "print(\"size test set:\", test_set_01_images.shape)"
   ]
  },
  {
   "cell_type": "markdown",
   "metadata": {},
   "source": [
    "## Part 1"
   ]
  },
  {
   "cell_type": "code",
   "execution_count": 6,
   "metadata": {},
   "outputs": [],
   "source": [
    "class LogisticRegressionModel(nn.Module):\n",
    "    def __init__(self, input_dim, output_dim):\n",
    "        super(LogisticRegressionModel, self).__init__()\n",
    "        self.linear = nn.Linear(input_dim, output_dim)\n",
    "\n",
    "    def forward(self, x):\n",
    "        out = self.linear(x)\n",
    "        return out"
   ]
  },
  {
   "cell_type": "code",
   "execution_count": 7,
   "metadata": {},
   "outputs": [
    {
     "name": "stdout",
     "output_type": "stream",
     "text": [
      "Iteration: 0. Loss: 0.6876462697982788. Test Accuracy: 51. Train Accuracy: 53\n",
      "Iteration: 500. Loss: 0.6025997400283813. Test Accuracy: 85. Train Accuracy: 68\n",
      "Iteration: 1000. Loss: 0.5888893604278564. Test Accuracy: 83. Train Accuracy: 69\n",
      "Iteration: 1500. Loss: 0.5795310735702515. Test Accuracy: 82. Train Accuracy: 70\n",
      "Iteration: 2000. Loss: 0.5720621347427368. Test Accuracy: 81. Train Accuracy: 71\n",
      "Iteration: 2500. Loss: 0.5657334923744202. Test Accuracy: 80. Train Accuracy: 71\n",
      "Iteration: 3000. Loss: 0.560198962688446. Test Accuracy: 80. Train Accuracy: 72\n",
      "Iteration: 3500. Loss: 0.5552613139152527. Test Accuracy: 80. Train Accuracy: 72\n",
      "Iteration: 4000. Loss: 0.5507935881614685. Test Accuracy: 79. Train Accuracy: 73\n",
      "Iteration: 4500. Loss: 0.546707808971405. Test Accuracy: 79. Train Accuracy: 73\n",
      "Iteration: 5000. Loss: 0.5429407954216003. Test Accuracy: 79. Train Accuracy: 73\n",
      "Iteration: 5500. Loss: 0.5394429564476013. Test Accuracy: 78. Train Accuracy: 73\n",
      "Iteration: 6000. Loss: 0.5361776351928711. Test Accuracy: 78. Train Accuracy: 74\n",
      "Iteration: 6500. Loss: 0.5331140756607056. Test Accuracy: 77. Train Accuracy: 74\n",
      "Iteration: 7000. Loss: 0.5302284955978394. Test Accuracy: 77. Train Accuracy: 74\n",
      "Iteration: 7500. Loss: 0.5275008082389832. Test Accuracy: 77. Train Accuracy: 74\n",
      "Iteration: 8000. Loss: 0.5249139666557312. Test Accuracy: 76. Train Accuracy: 74\n",
      "Iteration: 8500. Loss: 0.5224539637565613. Test Accuracy: 76. Train Accuracy: 74\n",
      "Iteration: 9000. Loss: 0.5201092958450317. Test Accuracy: 76. Train Accuracy: 74\n",
      "Iteration: 9500. Loss: 0.5178689956665039. Test Accuracy: 75. Train Accuracy: 75\n"
     ]
    }
   ],
   "source": [
    "accuracy_tr_list = []\n",
    "accuracy_te_list = []\n",
    "\n",
    "input_dim = 28*28\n",
    "output_dim = 2\n",
    "\n",
    "model = LogisticRegressionModel(input_dim, output_dim)\n",
    "learning_rate = 0.01\n",
    "n_iter = 10000\n",
    "optimizer = torch.optim.SGD(model.parameters(), lr=learning_rate) \n",
    "criterion = nn.CrossEntropyLoss()  \n",
    "\n",
    "# Choose the data sets used for training and testing\n",
    "images_test = test_set_01_images\n",
    "labels_test = test_set_01_labels\n",
    "images_train = train_set_01_images\n",
    "labels_train = train_set_01_labels\n",
    "\n",
    "for iter in range(n_iter):\n",
    "    # Training\n",
    "    # Clear gradients w.r.t. parameters\n",
    "    optimizer.zero_grad()\n",
    "    \n",
    "    outputs = model(images_train)\n",
    "\n",
    "    # Loss: softmax + negative log likelihood loss\n",
    "    loss = criterion(outputs, labels_train)\n",
    "\n",
    "    # Getting gradients w.r.t. parameters\n",
    "    loss.backward()\n",
    "\n",
    "    # Updating parameters\n",
    "    optimizer.step()\n",
    "    \n",
    "    _, predicted = torch.max(outputs.data, 1)\n",
    "    total_tr = labels_train.size(0)\n",
    "    correct_tr = (predicted == labels_train).sum()\n",
    "    accuracy_tr = 100 * correct_tr / total_tr\n",
    "    accuracy_tr_list.append(accuracy_tr)\n",
    "\n",
    "    # Testing\n",
    "    outputs = model(images_test)\n",
    "    _, predicted = torch.max(outputs.data, 1)\n",
    "    total = labels_test.size(0)\n",
    "    correct = (predicted == labels_test).sum()\n",
    "\n",
    "    accuracy = 100 * correct / total\n",
    "    accuracy_te_list.append(accuracy)\n",
    "\n",
    "    if iter % 500 == 0:\n",
    "        print('Iteration: {}. Loss: {}. Test Accuracy: {}. Train Accuracy: {}'.format(iter, loss.item(), accuracy,accuracy_tr))"
   ]
  },
  {
   "cell_type": "code",
   "execution_count": 8,
   "metadata": {},
   "outputs": [
    {
     "data": {
      "image/png": "[encoded data removed]",
      "text/plain": [
       "<Figure size 432x288 with 1 Axes>"
      ]
     },
     "metadata": {
      "needs_background": "light"
     },
     "output_type": "display_data"
    }
   ],
   "source": [
    "plt.plot(accuracy_te_list,label='test accuracy')\n",
    "plt.plot(accuracy_tr_list,label='training accuracy')\n",
    "plt.xlabel('Iterations')\n",
    "plt.ylabel('Accuracy')\n",
    "plt.legend()\n",
    "plt.show()"
   ]
  },
  {
   "cell_type": "code",
   "execution_count": 9,
   "metadata": {},
   "outputs": [
    {
     "data": {
      "text/plain": [
       "tensor(86)"
      ]
     },
     "execution_count": 9,
     "metadata": {},
     "output_type": "execute_result"
    }
   ],
   "source": [
    "max(accuracy_te_list)"
   ]
  },
  {
   "cell_type": "markdown",
   "metadata": {},
   "source": [
    "## Part 2"
   ]
  },
  {
   "cell_type": "code",
   "execution_count": 10,
   "metadata": {},
   "outputs": [],
   "source": [
    "# Random feature model\n",
    "num_featurs = train_set_01_images.shape[1]\n",
    "np.random.seed(0)\n",
    "ReLU = nn.ReLU()\n",
    "F = ReLU(torch.from_numpy( np.random.normal(loc=0, scale=1, size=[num_featurs,2*num_featurs]) ).type(torch.FloatTensor))\n",
    "train_set_01_images_rf = train_set_01_images @ F\n",
    "test_set_01_images_rf = test_set_01_images @ F\n",
    "\n",
    "train_set_01_images_rf -= train_set_01_images_rf.mean(0)[None, :]\n",
    "train_set_01_images_rf /= train_set_01_images_rf.std(0)[None, :]\n",
    "test_set_01_images_rf -= test_set_01_images_rf.mean(0)[None, :]\n",
    "test_set_01_images_rf /= test_set_01_images_rf.std(0)[None, :]"
   ]
  },
  {
   "cell_type": "code",
   "execution_count": 11,
   "metadata": {},
   "outputs": [
    {
     "name": "stdout",
     "output_type": "stream",
     "text": [
      "size train set: torch.Size([1000, 1568])\n",
      "size test set: torch.Size([1000, 1568])\n"
     ]
    }
   ],
   "source": [
    "print(\"size train set:\", train_set_01_images_rf.shape) \n",
    "print(\"size test set:\", test_set_01_images_rf.shape)"
   ]
  },
  {
   "cell_type": "code",
   "execution_count": 12,
   "metadata": {},
   "outputs": [
    {
     "name": "stdout",
     "output_type": "stream",
     "text": [
      "Iteration: 0. Loss: 0.7074114084243774. Test Accuracy: 62. Train Accuracy: 51\n",
      "Iteration: 500. Loss: 0.6229381561279297. Test Accuracy: 88. Train Accuracy: 66\n",
      "Iteration: 1000. Loss: 0.6108800172805786. Test Accuracy: 87. Train Accuracy: 67\n",
      "Iteration: 1500. Loss: 0.603598415851593. Test Accuracy: 86. Train Accuracy: 69\n",
      "Iteration: 2000. Loss: 0.5982382297515869. Test Accuracy: 86. Train Accuracy: 69\n",
      "Iteration: 2500. Loss: 0.5939191579818726. Test Accuracy: 84. Train Accuracy: 69\n",
      "Iteration: 3000. Loss: 0.5902423858642578. Test Accuracy: 84. Train Accuracy: 69\n",
      "Iteration: 3500. Loss: 0.5869991779327393. Test Accuracy: 84. Train Accuracy: 70\n",
      "Iteration: 4000. Loss: 0.5840677618980408. Test Accuracy: 84. Train Accuracy: 70\n",
      "Iteration: 4500. Loss: 0.5813756585121155. Test Accuracy: 83. Train Accuracy: 70\n",
      "Iteration: 5000. Loss: 0.5788739919662476. Test Accuracy: 82. Train Accuracy: 70\n",
      "Iteration: 5500. Loss: 0.5765296816825867. Test Accuracy: 82. Train Accuracy: 70\n",
      "Iteration: 6000. Loss: 0.5743186473846436. Test Accuracy: 82. Train Accuracy: 71\n",
      "Iteration: 6500. Loss: 0.5722227096557617. Test Accuracy: 81. Train Accuracy: 71\n",
      "Iteration: 7000. Loss: 0.5702281594276428. Test Accuracy: 81. Train Accuracy: 71\n",
      "Iteration: 7500. Loss: 0.56832355260849. Test Accuracy: 81. Train Accuracy: 72\n",
      "Iteration: 8000. Loss: 0.5664991140365601. Test Accuracy: 81. Train Accuracy: 72\n",
      "Iteration: 8500. Loss: 0.564748227596283. Test Accuracy: 81. Train Accuracy: 71\n",
      "Iteration: 9000. Loss: 0.563064455986023. Test Accuracy: 81. Train Accuracy: 72\n",
      "Iteration: 9500. Loss: 0.5614418983459473. Test Accuracy: 81. Train Accuracy: 72\n"
     ]
    }
   ],
   "source": [
    "accuracy_tr_list = []\n",
    "accuracy_te_list = []\n",
    "\n",
    "input_dim = 28*28*2\n",
    "output_dim = 2\n",
    "\n",
    "model = LogisticRegressionModel(input_dim, output_dim)\n",
    "learning_rate = 0.001\n",
    "n_iter = 10000\n",
    "optimizer = torch.optim.SGD(model.parameters(), lr=learning_rate) \n",
    "criterion = nn.CrossEntropyLoss()  \n",
    "\n",
    "# Choose the data sets used for training and testing\n",
    "images_test = test_set_01_images_rf\n",
    "labels_test = test_set_01_labels\n",
    "images_train = train_set_01_images_rf\n",
    "labels_train = train_set_01_labels\n",
    "\n",
    "for iter in range(n_iter):\n",
    "    # Training\n",
    "    # Clear gradients w.r.t. parameters\n",
    "    optimizer.zero_grad()\n",
    "\n",
    "    outputs = model(images_train)\n",
    "\n",
    "    # Calculate Loss: softmax + negative log likelihood loss\n",
    "    loss = criterion(outputs, labels_train)\n",
    "\n",
    "    # Getting gradients w.r.t. parameters\n",
    "    loss.backward()\n",
    "\n",
    "    # Updating parameters\n",
    "    optimizer.step()\n",
    "    \n",
    "    _, predicted = torch.max(outputs.data, 1)\n",
    "    total_tr = labels_train.size(0)\n",
    "    correct_tr = (predicted == labels_train).sum()\n",
    "    accuracy_tr = 100 * correct_tr / total_tr\n",
    "    accuracy_tr_list.append(accuracy_tr)\n",
    "\n",
    "    # Testing\n",
    "    outputs = model(images_test)\n",
    "    _, predicted = torch.max(outputs.data, 1)\n",
    "    total = labels_test.size(0)\n",
    "    correct = (predicted == labels_test).sum()\n",
    "\n",
    "    accuracy = 100 * correct / total\n",
    "    accuracy_te_list.append(accuracy)\n",
    "\n",
    "    if iter % 500 == 0:\n",
    "        print('Iteration: {}. Loss: {}. Test Accuracy: {}. Train Accuracy: {}'.format(iter, loss.item(), accuracy,accuracy_tr))"
   ]
  },
  {
   "cell_type": "code",
   "execution_count": 13,
   "metadata": {},
   "outputs": [
    {
     "data": {
      "image/png": "[encoded data removed]",
      "text/plain": [
       "<Figure size 432x288 with 1 Axes>"
      ]
     },
     "metadata": {
      "needs_background": "light"
     },
     "output_type": "display_data"
    }
   ],
   "source": [
    "plt.plot(accuracy_te_list,label='test accuracy')\n",
    "plt.plot(accuracy_tr_list,label='training accuracy')\n",
    "plt.legend()\n",
    "plt.show()"
   ]
  },
  {
   "cell_type": "code",
   "execution_count": 14,
   "metadata": {},
   "outputs": [
    {
     "data": {
      "text/plain": [
       "tensor(88)"
      ]
     },
     "execution_count": 14,
     "metadata": {},
     "output_type": "execute_result"
    }
   ],
   "source": [
    "max(accuracy_te_list)"
   ]
  },
  {
   "cell_type": "code",
   "execution_count": null,
   "metadata": {},
   "outputs": [],
   "source": []
  }
 ],
 "metadata": {
  "kernelspec": {
   "display_name": "Python 3",
   "language": "python",
   "name": "python3"
  },
  "language_info": {
   "codemirror_mode": {
    "name": "ipython",
    "version": 3
   },
   "file_extension": ".py",
   "mimetype": "text/x-python",
   "name": "python",
   "nbconvert_exporter": "python",
   "pygments_lexer": "ipython3",
   "version": "3.7.4"
  }
 },
 "nbformat": 4,
 "nbformat_minor": 2
}
