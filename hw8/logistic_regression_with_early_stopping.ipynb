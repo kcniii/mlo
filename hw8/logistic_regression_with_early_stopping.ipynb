{
 "cells": [
  {
   "cell_type": "code",
   "execution_count": 17,
   "metadata": {},
   "outputs": [],
   "source": [
    "import torch\n",
    "import torch.nn as nn\n",
    "import torchvision.transforms as transforms\n",
    "import torchvision.datasets as dsets\n",
    "import numpy as np\n",
    "import matplotlib.pyplot as plt"
   ]
  },
  {
   "cell_type": "code",
   "execution_count": 18,
   "metadata": {},
   "outputs": [],
   "source": [
    "train_dataset = dsets.MNIST(root='./data', \n",
    "                            train=True, \n",
    "                            transform=transforms.ToTensor(),\n",
    "                            download=True)\n",
    "test_dataset = dsets.MNIST(root='./data', \n",
    "                           train=False, \n",
    "                           transform=transforms.ToTensor())"
   ]
  },
  {
   "cell_type": "markdown",
   "metadata": {},
   "source": [
    "Create training and test set with 500 examples of classes 5 and 8 respectively and change labels to 0 and 1. At the same time flip 30% of the labels."
   ]
  },
  {
   "cell_type": "code",
   "execution_count": 19,
   "metadata": {},
   "outputs": [],
   "source": [
    "train_set = [ex for ex in train_dataset if ex[1]==5][:500] + [ex for ex in train_dataset if ex[1]==8][:500]\n",
    "test_set = [ex for ex in test_dataset if ex[1]==5][:500] + [ex for ex in test_dataset if ex[1]==8][:500]"
   ]
  },
  {
   "cell_type": "code",
   "execution_count": 20,
   "metadata": {},
   "outputs": [],
   "source": [
    "train_set_01_images = []\n",
    "test_set_01_images = []\n",
    "train_set_01_labels = []\n",
    "test_set_01_labels = []\n",
    "num_flips = 500//3 #num_flips=0 to have no flips\n",
    "for i,ex_tr in enumerate(train_set): # [0,499] ->5, [500,999] ->8\n",
    "    ex_tr = list(ex_tr)\n",
    "    if ex_tr[1]==5:\n",
    "        if i<num_flips: # 0-30% of 5s(0-499) are flipped to 8s, \n",
    "            ex_tr[1]=1\n",
    "            # 1 is the label for 8s\n",
    "            # 0 is the label for 5s\n",
    "        else: \n",
    "            ex_tr[1]=0\n",
    "    else: \n",
    "        if i<num_flips+500: # 0-30% of 8s(500-999) are flipped to 5s\n",
    "            ex_tr[1]=0\n",
    "        else: \n",
    "            ex_tr[1]=1\n",
    "    train_set_01_images.append(ex_tr[0])\n",
    "    train_set_01_labels.append(ex_tr[1])\n",
    "    \n",
    "for ex_te in test_set:\n",
    "    ex_te = list(ex_te)\n",
    "    if ex_te[1]==5:\n",
    "        ex_te[1]=0\n",
    "    else: \n",
    "        ex_te[1]=1\n",
    "    test_set_01_images.append(ex_te[0])\n",
    "    test_set_01_labels.append(ex_te[1])\n",
    "train_set_01_images = torch.stack(train_set_01_images)  # why stack? anwser: to make it a tensor, and the shape is (1000, 1, 28, 28)\n",
    "train_set_01_images = train_set_01_images.view(-1, 28*28) # 1000, 784\n",
    "\n",
    "test_set_01_images = torch.stack(test_set_01_images)\n",
    "test_set_01_images = test_set_01_images.view(-1, 28*28)\n",
    "\n",
    "train_set_01_labels = torch.tensor(train_set_01_labels)\n",
    "test_set_01_labels = torch.tensor(test_set_01_labels) \n",
    "\n",
    "# shuffle training set\n",
    "n_sample = len(train_set_01_images)\n",
    "np.random.seed(0)\n",
    "order = np.random.permutation(n_sample)\n",
    "train_set_01_images = train_set_01_images[order]\n",
    "train_set_01_labels = train_set_01_labels[order]"
   ]
  },
  {
   "cell_type": "code",
   "execution_count": 21,
   "metadata": {},
   "outputs": [
    {
     "name": "stdout",
     "output_type": "stream",
     "text": [
      "size train set: torch.Size([1000, 784])\n",
      "size test set: torch.Size([1000, 784])\n"
     ]
    }
   ],
   "source": [
    "print(\"size train set:\", train_set_01_images.shape)\n",
    "print(\"size test set:\", test_set_01_images.shape)"
   ]
  },
  {
   "cell_type": "markdown",
   "metadata": {},
   "source": [
    "## logistic regression"
   ]
  },
  {
   "cell_type": "code",
   "execution_count": null,
   "metadata": {},
   "outputs": [],
   "source": [
    "# def sigmoid(X):\n",
    "#     return 1/(1+torch.exp(-X))\n",
    "\n",
    "# def f(X,theta): # x 1*784, theta 784*1\n",
    "#     return sigmoid(torch.matmul(X,theta))\n",
    "\n",
    "# def loss(X,y,theta):\n",
    "#     epsilon = 1e-8 # to avoid nan\n",
    "#     X = X.type(torch.float)\n",
    "#     y = y.type(torch.float)\n",
    "#     loss1 = -torch.matmul(y,torch.log(f(X,theta)+epsilon)) - torch.matmul((1-y),torch.log(1-f(X,theta)+epsilon))\n",
    "#     return loss1\n",
    "\n",
    "# def loss_grad(X,y,theta):\n",
    "#     X = X.type(torch.float)\n",
    "#     y = y.type(torch.float)\n",
    "#     return torch.matmul(X.T, f(X,theta)-y).sum(1).view(-1,1)\n"
   ]
  },
  {
   "cell_type": "code",
   "execution_count": null,
   "metadata": {},
   "outputs": [],
   "source": [
    "# max_epochs = 10000\n",
    "# step_size = 0.0000001\n",
    "# theta1 = torch.ones(28*28,1)\n",
    "\n",
    "# for i in range(max_epochs): \n",
    "#     grad = loss_grad(train_set_01_images, train_set_01_labels, theta1)\n",
    "#     tmp = theta1\n",
    "#     theta1 = theta1 - step_size * grad\n",
    "#     print(loss(train_set_01_images, train_set_01_labels, theta1))\n"
   ]
  },
  {
   "cell_type": "code",
   "execution_count": null,
   "metadata": {},
   "outputs": [],
   "source": [
    "X = train_set_01_images.type(torch.float)\n",
    "X.shape"
   ]
  },
  {
   "cell_type": "code",
   "execution_count": 24,
   "metadata": {},
   "outputs": [],
   "source": [
    "\n",
    "class Net(nn.Module):\n",
    "    def __init__(self,input_size,output_size):\n",
    "        super(Net, self).__init__()\n",
    "        self.fc1 = nn.Linear(input_size, output_size)\n",
    "    \n",
    "    def forward(self, x):\n",
    "        output = torch.sigmoid(self.fc1(x))\n",
    "        return output\n",
    "    \n",
    "net = Net(28*28,1)\n",
    "\n",
    "import torch.optim as optim\n",
    "criterion = nn.BCELoss()\n",
    "optimizer = optim.SGD(net.parameters(), lr=0.001, momentum=0.9)\n",
    "\n",
    "train_errors = []\n",
    "test_errors = []\n",
    "\n",
    "train_accs = []\n",
    "test_accs = []\n",
    "\n",
    "\n",
    "X = train_set_01_images.type(torch.float)\n",
    "y = train_set_01_labels.type(torch.float).view(-1,1)\n",
    "\n",
    "X_test = test_set_01_images.type(torch.float)\n",
    "y_test = test_set_01_labels.type(torch.float).view(-1,1)\n",
    "\n",
    "max_epochs = 10000\n",
    "for epochs in range(max_epochs):\n",
    "    optimizer.zero_grad()\n",
    "    outputs = net(X)\n",
    "    loss = criterion(outputs.view(-1,1), y)\n",
    "    loss.backward()\n",
    "    optimizer.step()\n",
    "\n",
    "    # store training and test errors/accuracy\n",
    "    train_acc = ((outputs>0.5).type(torch.int32)==y.type(torch.int32)).type(torch.float).mean() \n",
    "    train_accs.append(train_acc)\n",
    "    \n",
    "    outputs_test = net(X_test)\n",
    "    test_acc = ((outputs_test>0.5).type(torch.int32)==y_test.type(torch.int32)).type(torch.float).mean()\n",
    "    test_accs.append(test_acc)\n",
    "    \n",
    "    train_errors.append(loss.item())\n",
    "    test_errors.append(criterion(outputs_test.view(-1,1), y_test).item())"
   ]
  },
  {
   "cell_type": "code",
   "execution_count": 25,
   "metadata": {},
   "outputs": [
    {
     "data": {
      "image/png": "[encoded data removed]",
      "text/plain": [
       "<Figure size 1152x432 with 2 Axes>"
      ]
     },
     "metadata": {
      "needs_background": "light"
     },
     "output_type": "display_data"
    }
   ],
   "source": [
    "import matplotlib.pyplot as plt\n",
    "\n",
    "fig, (ax1, ax2) = plt.subplots(1, 2, figsize=(16, 6), sharey=True)\n",
    "\n",
    "ax1.plot(train_errors, label='train error')\n",
    "ax1.plot(test_errors, label='test error')\n",
    "ax1.set_xlabel('Epochs')\n",
    "ax1.set_ylabel('Error')\n",
    "ax1.legend()\n",
    "\n",
    "# Plotting accuracies\n",
    "ax2.plot(train_accs, label='train acc')\n",
    "ax2.plot(test_accs, label='test acc')\n",
    "ax2.set_xlabel('Epochs')\n",
    "ax2.set_ylabel('Accuracy')\n",
    "ax2.legend()\n",
    "\n",
    "plt.tight_layout()\n",
    "plt.show()"
   ]
  },
  {
   "cell_type": "code",
   "execution_count": 27,
   "metadata": {},
   "outputs": [],
   "source": [
    "import torch.nn.functional as F\n",
    "\n",
    "class Net1(nn.Module):\n",
    "    def __init__(self):\n",
    "        super(Net1, self).__init__()\n",
    "        self.fc1 = nn.Linear(2*28*28, 1)\n",
    "    \n",
    "    def forward(self, x):\n",
    "        F1 = torch.randn(2*784,784)\n",
    "        x = torch.matmul(F1,x.T).T\n",
    "        x = F.relu(x)\n",
    "        output = torch.sigmoid(self.fc1(x))\n",
    "        return output\n",
    "    \n",
    "net = Net1()\n",
    "import torch.optim as optim\n",
    "criterion = nn.BCELoss()\n",
    "optimizer = optim.SGD(net.parameters(), lr=0.001, momentum=0.9)\n",
    "\n",
    "train_errors = []\n",
    "test_errors = []\n",
    "\n",
    "train_accs = []\n",
    "test_accs = []\n",
    "\n",
    "\n",
    "X = train_set_01_images.type(torch.float)\n",
    "y = train_set_01_labels.type(torch.float).view(-1,1)\n",
    "\n",
    "X_test = test_set_01_images.type(torch.float)\n",
    "y_test = test_set_01_labels.type(torch.float).view(-1,1)\n",
    "\n",
    "max_epochs = 100\n",
    "for epochs in range(max_epochs):\n",
    "    optimizer.zero_grad()\n",
    "    outputs = net(X)\n",
    "    loss = criterion(outputs.view(-1,1), y)\n",
    "    loss.backward()\n",
    "    optimizer.step()\n",
    "\n",
    "    # store training and test errors/accuracy\n",
    "    train_acc = ((outputs>0.5).type(torch.int32)==y.type(torch.int32)).type(torch.float).mean() \n",
    "    train_accs.append(train_acc)\n",
    "    \n",
    "    outputs_test = net(X_test)\n",
    "    test_acc = ((outputs_test>0.5).type(torch.int32)==y_test.type(torch.int32)).type(torch.float).mean()\n",
    "    test_accs.append(test_acc)\n",
    "    \n",
    "    train_errors.append(loss.item())\n",
    "    test_errors.append(criterion(outputs_test.view(-1,1), y_test).item())"
   ]
  },
  {
   "cell_type": "code",
   "execution_count": 29,
   "metadata": {},
   "outputs": [
    {
     "data": {
      "image/png": "[encoded data removed]",
      "text/plain": [
       "<Figure size 1152x432 with 2 Axes>"
      ]
     },
     "metadata": {
      "needs_background": "light"
     },
     "output_type": "display_data"
    }
   ],
   "source": [
    "import matplotlib.pyplot as plt\n",
    "\n",
    "fig, (ax1, ax2) = plt.subplots(1, 2, figsize=(16, 6), sharey=True)\n",
    "\n",
    "ax1.plot(train_errors, label='train error')\n",
    "ax1.plot(test_errors, label='test error')\n",
    "ax1.set_xlabel('Epochs')\n",
    "ax1.set_ylabel('Error')\n",
    "ax1.legend()\n",
    "\n",
    "# Plotting accuracies\n",
    "ax2.plot(train_accs, label='train acc')\n",
    "# ax2.plot(test_accs, label='test acc')\n",
    "ax2.set_xlabel('Epochs')\n",
    "ax2.set_ylabel('Accuracy')\n",
    "ax2.legend()\n",
    "\n",
    "plt.tight_layout()\n",
    "plt.show()"
   ]
  },
  {
   "cell_type": "code",
   "execution_count": null,
   "metadata": {},
   "outputs": [],
   "source": []
  }
 ],
 "metadata": {
  "kernelspec": {
   "display_name": "Python 3",
   "language": "python",
   "name": "python3"
  },
  "language_info": {
   "codemirror_mode": {
    "name": "ipython",
    "version": 3
   },
   "file_extension": ".py",
   "mimetype": "text/x-python",
   "name": "python",
   "nbconvert_exporter": "python",
   "pygments_lexer": "ipython3",
   "version": "3.9.7"
  }
 },
 "nbformat": 4,
 "nbformat_minor": 2
}
