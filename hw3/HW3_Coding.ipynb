{
  "cells": [
    {
      "cell_type": "code",
      "execution_count": 150,
      "metadata": {
        "id": "D48CybcqkT4y"
      },
      "outputs": [],
      "source": [
        "import csv\n",
        "import numpy as np"
      ]
    },
    {
      "cell_type": "code",
      "execution_count": 151,
      "metadata": {
        "id": "ibE2_ri0naqh"
      },
      "outputs": [],
      "source": [
        "#load feature variables and their names\n",
        "# X_filename = '/content/drive/MyDrive/23ws/HW3/hitters.x.csv'\n",
        "# y_filename = '/content/drive/MyDrive/23ws/HW3/hitters.y.csv'\n",
        "\n",
        "X_filename = 'hitters.x.csv'\n",
        "y_filename = 'hitters.y.csv'\n",
        "\n",
        "X=np.loadtxt(X_filename, delimiter=',',skiprows=1)\n",
        "with open(X_filename, 'r') as f:\n",
        "  X_colnames = next(csv.reader(f))\n",
        "#load salaries\n",
        "y=np.loadtxt(y_filename, delimiter=',', skiprows=1)"
      ]
    },
    {
      "cell_type": "markdown",
      "metadata": {
        "id": "BEOUVDC-txfq"
      },
      "source": [
        "## 3.1\n",
        "1.   If the features's value have huge difference, the larger features may have significant effect on the output. However, the smaller values may be ignored in this situation.\n",
        "2.   And when we compute the gradient descent, it may oscillate and takes long time to convergence.\n",
        "\n",
        "## 3.2\n",
        "(see above)\n",
        "\n"
      ]
    },
    {
      "cell_type": "code",
      "execution_count": 152,
      "metadata": {
        "id": "GqbsR9F5qktG"
      },
      "outputs": [],
      "source": [
        "# features scaling\n",
        "X_mean = X.mean(axis=0)\n",
        "X_std = X.std(axis=0)\n",
        "X_normalized =  (X-X_mean)/X_std\n",
        "\n",
        "I = np.ones((X_normalized.shape[0],1))\n",
        "X_aug = np.hstack((I,X_normalized))"
      ]
    },
    {
      "cell_type": "code",
      "execution_count": 153,
      "metadata": {
        "id": "NkBH7pYrs9Ti"
      },
      "outputs": [],
      "source": [
        "# the close form of ridge regression without the bias term\n",
        "def ridge(X,y,lambda1):\n",
        "  I_tilde = np.eye((X.shape[1]))\n",
        "  I_tilde[0,0] = 0\n",
        "  a=(X.T)@X+ np.dot(lambda1,I_tilde)\n",
        "  a_inv =np.linalg.inv(a)\n",
        "  b = X.T@y\n",
        "  return a_inv@b"
      ]
    },
    {
      "cell_type": "markdown",
      "metadata": {
        "id": "sHJOBaYcQPMg"
      },
      "source": [
        "## 3.3 plotting the ℓ2 norm of the regression coefficients versus λ on a log-log plot."
      ]
    },
    {
      "cell_type": "code",
      "execution_count": 154,
      "metadata": {
        "colab": {
          "base_uri": "https://localhost:8080/"
        },
        "id": "jDmqwOkAE6d2",
        "outputId": "1136026f-1300-474a-8d63-c068cf804269"
      },
      "outputs": [
        {
          "name": "stdout",
          "output_type": "stream",
          "text": [
            "(20, 100)\n"
          ]
        }
      ],
      "source": [
        "lambda1 = np.logspace(-3,7,100)\n",
        "n = len(lambda1) # 100\n",
        "theta_hat = np.zeros((X_aug.shape[1],n))\n",
        "print(theta_hat.shape)\n",
        "for i,lam in enumerate(lambda1):\n",
        "  # print(ridge(X_aug,y,lam).reshape((1,-1)).shape)\n",
        "  theta_hat[:,i] = ridge(X_aug,y,lam)"
      ]
    },
    {
      "cell_type": "code",
      "execution_count": 155,
      "metadata": {
        "colab": {
          "base_uri": "https://localhost:8080/",
          "height": 493
        },
        "id": "hMiRe_UZXApq",
        "outputId": "3f8a55e5-2d66-4088-eb41-204402392137"
      },
      "outputs": [
        {
          "data": {
            "text/plain": [
              "Text(0.5, 1.0, 'The ℓ2 norm of the regression coefficients versus λ')"
            ]
          },
          "execution_count": 155,
          "metadata": {},
          "output_type": "execute_result"
        },
        {
          "data": {
            "image/png": "[encoded data removed]",
            "text/plain": [
              "<Figure size 432x288 with 1 Axes>"
            ]
          },
          "metadata": {
            "needs_background": "light"
          },
          "output_type": "display_data"
        }
      ],
      "source": [
        "import matplotlib.pyplot as plt\n",
        "theta_l2_norm = np.sqrt((theta_hat[1:,:]**2).sum(axis=0))\n",
        "plt.loglog(lambda1,theta_l2_norm)\n",
        "# plt.semilogx(lambda1,theta_l2_norm)\n",
        "plt.xlabel('λ')\n",
        "plt.ylabel('theta^2')\n",
        "plt.title('The ℓ2 norm of the regression coefficients versus λ')"
      ]
    },
    {
      "cell_type": "markdown",
      "metadata": {
        "id": "2Iv7AKRnZmS-"
      },
      "source": [
        "## 3.4  a very small (or large) value of λ"
      ]
    },
    {
      "cell_type": "code",
      "execution_count": 156,
      "metadata": {
        "colab": {
          "base_uri": "https://localhost:8080/",
          "height": 489
        },
        "id": "QNYNZ-ZBc4DQ",
        "outputId": "7a209c8f-2062-4492-fa6c-6e13d9395a39"
      },
      "outputs": [
        {
          "name": "stdout",
          "output_type": "stream",
          "text": [
            "(20,)\n"
          ]
        },
        {
          "data": {
            "text/plain": [
              "Text(0, 0.5, 'theta')"
            ]
          },
          "execution_count": 156,
          "metadata": {},
          "output_type": "execute_result"
        },
        {
          "data": {
            "image/png": "[encoded data removed]",
            "text/plain": [
              "<Figure size 432x288 with 1 Axes>"
            ]
          },
          "metadata": {
            "needs_background": "light"
          },
          "output_type": "display_data"
        }
      ],
      "source": [
        "theta_0 = ridge(X_aug, y, 0) #linear\n",
        "print(theta_0.shape)\n",
        "color_map = plt.cm.tab20\n",
        "\n",
        "for j, theta in enumerate(theta_0):\n",
        "  line_color = color_map(j)\n",
        "  plt.semilogx(lambda1,np.ones_like(lambda1)*theta,linestyle='dotted',color=line_color)\n",
        "  plt.semilogx(lambda1,theta_hat[j,:],color=line_color)\n",
        "\n",
        "plt.xlabel('λ')\n",
        "plt.ylabel('theta')"
      ]
    },
    {
      "cell_type": "markdown",
      "metadata": {
        "id": "48vDxki4ccgt"
      },
      "source": [
        "## 3.5 cross-validation\n",
        "Perform 5-fold cross-validation to determine the best value of λ. You should implement this\n",
        "cross-validation procedure yourself. Produce a plot of the cross-validation error curve as a\n",
        "function of λ.\n"
      ]
    },
    {
      "cell_type": "code",
      "execution_count": 157,
      "metadata": {
        "id": "8e7m9MyBhJag"
      },
      "outputs": [],
      "source": [
        "k=5 # folds\n",
        "n = 260 # num of total examples\n",
        "batch_size = n//k # 20\n",
        "idx = list(np.arange(n))\n",
        "np.random.shuffle(idx)\n",
        "\n",
        "def iter(X,y,batch_size):\n",
        "  for i in range(0,n,batch_size):\n",
        "    feature_idx = idx[i:i+batch_size]\n",
        "    yield X[feature_idx],y[feature_idx]"
      ]
    },
    {
      "cell_type": "code",
      "execution_count": 158,
      "metadata": {
        "colab": {
          "base_uri": "https://localhost:8080/",
          "height": 471
        },
        "id": "oZN0-aFmeqqD",
        "outputId": "9dfbb470-87fb-460e-9ec2-5bc06a6a88a0"
      },
      "outputs": [
        {
          "data": {
            "text/plain": [
              "Text(0, 0.5, 'MSE')"
            ]
          },
          "execution_count": 158,
          "metadata": {},
          "output_type": "execute_result"
        },
        {
          "data": {
            "image/png": "[encoded data removed]",
            "text/plain": [
              "<Figure size 432x288 with 1 Axes>"
            ]
          },
          "metadata": {
            "needs_background": "light"
          },
          "output_type": "display_data"
        }
      ],
      "source": [
        "val_n = 0\n",
        "mse = 0\n",
        "mse_arr = np.zeros(100)\n",
        "\n",
        "for i,lam in enumerate(lambda1):\n",
        "  mse =0\n",
        "  for j in range(k):\n",
        "    train_X = np.zeros([batch_size,X_aug.shape[1]])\n",
        "    train_y = np.zeros([batch_size,1])\n",
        "    val_n = 0\n",
        "    for features, labels in iter(X_aug,y,batch_size):\n",
        "      if val_n == j:\n",
        "        val_X = features\n",
        "        val_y = labels\n",
        "      else:\n",
        "        train_X = np.vstack((train_X,features.reshape([batch_size,X_aug.shape[1]])))\n",
        "        train_y = np.vstack((train_y,labels.reshape((batch_size,1))))\n",
        "      val_n +=1\n",
        "\n",
        "    w_hat = ridge(train_X[batch_size:,:], train_y[batch_size:,:],lam)\n",
        "    mse += np.sqrt((((val_y.reshape((batch_size,1))-val_X@w_hat)**2).mean())/batch_size)\n",
        "\n",
        "  mse_arr[i] = mse/5\n",
        "\n",
        "plt.semilogx(lambda1,mse_arr)\n",
        "plt.xlabel('λ')\n",
        "plt.ylabel('MSE')"
      ]
    },
    {
      "cell_type": "markdown",
      "metadata": {
        "id": "sBwcNWl9gbWJ"
      },
      "source": [
        "## 3.5 best value of λ\n",
        "\n"
      ]
    },
    {
      "cell_type": "code",
      "execution_count": 159,
      "metadata": {
        "colab": {
          "base_uri": "https://localhost:8080/"
        },
        "id": "8bMhFEUq9wIA",
        "outputId": "a29f3a9b-1470-45a1-91b8-cb556ba1e7ec"
      },
      "outputs": [
        {
          "name": "stdout",
          "output_type": "stream",
          "text": [
            "Best value of lambda: 3.43047\n"
          ]
        }
      ],
      "source": [
        "lam_star_idx = np.argmin(mse_arr)\n",
        "lam_star = lambda1[lam_star_idx]\n",
        "theta_star =ridge(X_aug,y,lam_star)\n",
        "print('Best value of lambda: %g' % lam_star)"
      ]
    },
    {
      "cell_type": "markdown",
      "metadata": {
        "id": "6F7sW9xtglQS"
      },
      "source": [
        "## 3.6 the coefficient estimates at the best value of λ\n",
        "As the sorted theta list below, larger value means the importance that the coach should focuse on."
      ]
    },
    {
      "cell_type": "code",
      "execution_count": 160,
      "metadata": {
        "colab": {
          "base_uri": "https://localhost:8080/"
        },
        "id": "_TMfeUnwc5bq",
        "outputId": "1372dc9f-0158-44dc-c36b-50c669264f46"
      },
      "outputs": [
        {
          "data": {
            "text/plain": [
              "{'Bias': 535.9258441064638,\n",
              " 'Hits': 232.24767962897022,\n",
              " 'CRuns': 201.46448602906094,\n",
              " 'CHits': 120.70176629624166,\n",
              " 'CRBI': 115.49807650422144,\n",
              " 'Walks': 107.08567473883488,\n",
              " 'PutOuts': 77.60812636861705,\n",
              " 'CHmRun': 57.87869589951197,\n",
              " 'Assists': 39.28028710973353,\n",
              " 'LeagueN': 30.270234141529954,\n",
              " 'RBI': 4.763026203699837,\n",
              " 'HmRun': 1.9203613843230656,\n",
              " 'Runs': -0.5792979882678537,\n",
              " 'NewLeagueN': -13.603235952483999,\n",
              " 'Errors': -25.113365071570357,\n",
              " 'Years': -51.3809137860535,\n",
              " 'DivisionW': -61.72203805297099,\n",
              " 'CAtBat': -96.0925227744392,\n",
              " 'CWalks': -146.3578150190708,\n",
              " 'AtBat': -216.7135697036406}"
            ]
          },
          "execution_count": 160,
          "metadata": {},
          "output_type": "execute_result"
        }
      ],
      "source": [
        "X_colnames.insert(0,'Bias')\n",
        "theta_dic = list(zip(X_colnames,theta_star))\n",
        "theta_dic = dict(sorted(theta_dic,key = lambda x: x[1],reverse=True))\n",
        "theta_dic"
      ]
    }
  ],
  "metadata": {
    "colab": {
      "provenance": []
    },
    "kernelspec": {
      "display_name": "Python 3",
      "name": "python3"
    },
    "language_info": {
      "codemirror_mode": {
        "name": "ipython",
        "version": 3
      },
      "file_extension": ".py",
      "mimetype": "text/x-python",
      "name": "python",
      "nbconvert_exporter": "python",
      "pygments_lexer": "ipython3",
      "version": "3.9.7"
    }
  },
  "nbformat": 4,
  "nbformat_minor": 0
}
