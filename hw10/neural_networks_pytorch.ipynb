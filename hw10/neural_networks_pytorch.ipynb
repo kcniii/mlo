{
  "cells": [
    {
      "cell_type": "markdown",
      "metadata": {
        "id": "SQMsLJ0UvI5S"
      },
      "source": [
        "# HW10\n",
        "## Problem 1: Computational cost\n",
        "\n",
        "Input layer:  $O(d\\cdot k)$  \n",
        "Hidden layer: $ O(k\\cdot k \\cdot (q-1))$  \n",
        "Output layer: $ O(k)$  \n",
        "\n",
        "**In total: $O(d\\cdot k + (q-1)\\cdot k^2) + k) = O(d\\cdot k + (q-1)\\cdot k^2)) $**\n"
      ]
    },
    {
      "cell_type": "markdown",
      "metadata": {
        "id": "4LnuReoovI5Z"
      },
      "source": [
        "## Problem 2: Neural networks with PyTorch"
      ]
    },
    {
      "cell_type": "code",
      "execution_count": 1,
      "metadata": {
        "id": "SHTfyNByvI5a"
      },
      "outputs": [],
      "source": [
        "import torch\n",
        "import torch.nn as nn\n",
        "import torchvision\n",
        "import torchvision.transforms as transforms\n",
        "from torch.utils.data import DataLoader\n",
        "import torch.nn.functional as F"
      ]
    },
    {
      "cell_type": "markdown",
      "metadata": {
        "id": "lziO_E0svI5d"
      },
      "source": [
        "Load CIFAR10 train and test set"
      ]
    },
    {
      "cell_type": "code",
      "execution_count": 2,
      "metadata": {
        "colab": {
          "base_uri": "https://localhost:8080/",
          "height": 0
        },
        "id": "cenFvpaEvI5d",
        "outputId": "718d8e92-cbcc-4031-83a9-63883c990404"
      },
      "outputs": [
        {
          "output_type": "stream",
          "name": "stdout",
          "text": [
            "Downloading https://www.cs.toronto.edu/~kriz/cifar-10-python.tar.gz to ./data/cifar-10-python.tar.gz\n"
          ]
        },
        {
          "output_type": "stream",
          "name": "stderr",
          "text": [
            "100%|██████████| 170498071/170498071 [00:03<00:00, 47763214.95it/s]\n"
          ]
        },
        {
          "output_type": "stream",
          "name": "stdout",
          "text": [
            "Extracting ./data/cifar-10-python.tar.gz to ./data\n",
            "Files already downloaded and verified\n"
          ]
        }
      ],
      "source": [
        "device = torch.device('cuda:0' if torch.cuda.is_available() else 'cpu')\n",
        "transform = transforms.Compose(\n",
        "    [transforms.ToTensor(),\n",
        "     transforms.Normalize((0.5, 0.5, 0.5), (0.5, 0.5, 0.5))]\n",
        ")\n",
        "\n",
        "batch_size = 4\n",
        "\n",
        "trainset = torchvision.datasets.CIFAR10(root='./data', train=True,\n",
        "                                        download=True, transform=transform)\n",
        "testset = torchvision.datasets.CIFAR10(root='./data', train=False,\n",
        "                                       download=True, transform=transform)"
      ]
    },
    {
      "cell_type": "markdown",
      "metadata": {
        "id": "f_AhPGmivI5e"
      },
      "source": [
        "1. Reducing the size of the training and test accordingly"
      ]
    },
    {
      "cell_type": "code",
      "execution_count": 3,
      "metadata": {
        "id": "t8lTvDdSvI5f"
      },
      "outputs": [],
      "source": [
        "# car: 1\n",
        "# dog: 5\n",
        "# ship: 8\n",
        "classes = {'car', 'dog', 'ship'}\n",
        "class_mapping={1:0,5:1,8:2}\n",
        "\n",
        "trainset = [ex for ex in trainset if ex[1]==1 or ex[1]==5 or ex[1]==8]\n",
        "testset = [ex for ex in testset if ex[1]==1 or ex[1]==5 or ex[1]==8]\n",
        "\n",
        "trainloader = DataLoader(trainset, batch_size=batch_size,shuffle=True)\n",
        "testloader = DataLoader(testset, batch_size=batch_size,shuffle=False)\n",
        "\n",
        "train_full = DataLoader(trainset, batch_size=len(trainset),shuffle=True)\n",
        "train_X, train_y = next(iter(train_full))\n",
        "train_X, train_y = train_X.to(device),train_y.to(device)\n",
        "train_y=torch.tensor([class_mapping[label.item()] for label in train_y]).to(device)\n",
        "\n",
        "test_full = DataLoader(testset, batch_size=len(testset),shuffle=True)\n",
        "test_X, test_y = next(iter(test_full))\n",
        "test_X, test_y = test_X.to(device),test_y.to(device)\n",
        "test_y=torch.tensor([class_mapping[label.item()] for label in test_y]).to(device)"
      ]
    },
    {
      "cell_type": "markdown",
      "metadata": {
        "id": "oXptKw2mvI5g"
      },
      "source": [
        "2. creat model"
      ]
    },
    {
      "cell_type": "code",
      "execution_count": 4,
      "metadata": {
        "id": "evWqEHItvI5g"
      },
      "outputs": [],
      "source": [
        "class Net(nn.Module):\n",
        "    def __init__(self,inputdim):\n",
        "        super(Net,self).__init__()\n",
        "        self.fc1 = nn.Linear(inputdim,512)\n",
        "        self.fc2 = nn.Linear(512,3)\n",
        "\n",
        "    def forward(self,x):\n",
        "        x = torch.flatten(x,1)\n",
        "        x=F.relu(self.fc1(x))\n",
        "        x=self.fc2(x)\n",
        "        return x\n",
        "\n",
        "net = Net(3*32*32).to(device)"
      ]
    },
    {
      "cell_type": "markdown",
      "metadata": {
        "id": "guDdF5KAvI5h"
      },
      "source": [
        "3. Optimizer and loss"
      ]
    },
    {
      "cell_type": "code",
      "execution_count": 5,
      "metadata": {
        "id": "CITJUKrJvI5i",
        "colab": {
          "base_uri": "https://localhost:8080/",
          "height": 0
        },
        "outputId": "38bafb7d-1746-4341-c993-fe13548f5df8"
      },
      "outputs": [
        {
          "output_type": "stream",
          "name": "stdout",
          "text": [
            "Epoch 1/10, Train accuracy: 82.97%\n",
            "Epoch 1/10, Test accuracy: 80.00%\n",
            "\n",
            "Epoch 2/10, Train accuracy: 85.62%\n",
            "Epoch 2/10, Test accuracy: 81.40%\n",
            "\n",
            "Epoch 3/10, Train accuracy: 89.49%\n",
            "Epoch 3/10, Test accuracy: 83.13%\n",
            "\n",
            "Epoch 4/10, Train accuracy: 82.69%\n",
            "Epoch 4/10, Test accuracy: 76.37%\n",
            "\n",
            "Epoch 5/10, Train accuracy: 91.15%\n",
            "Epoch 5/10, Test accuracy: 83.63%\n",
            "\n",
            "Epoch 6/10, Train accuracy: 92.31%\n",
            "Epoch 6/10, Test accuracy: 83.53%\n",
            "\n",
            "Epoch 7/10, Train accuracy: 90.69%\n",
            "Epoch 7/10, Test accuracy: 81.30%\n",
            "\n",
            "Epoch 8/10, Train accuracy: 93.15%\n",
            "Epoch 8/10, Test accuracy: 83.57%\n",
            "\n",
            "Epoch 9/10, Train accuracy: 94.41%\n",
            "Epoch 9/10, Test accuracy: 84.17%\n",
            "\n",
            "Epoch 10/10, Train accuracy: 93.81%\n",
            "Epoch 10/10, Test accuracy: 83.03%\n",
            "\n"
          ]
        }
      ],
      "source": [
        "criterion = nn.CrossEntropyLoss()\n",
        "optimizer = torch.optim.SGD(net.parameters(),lr = 1e-3, momentum=0.9)\n",
        "max_epochs = 10\n",
        "\n",
        "train_acc_best = 0\n",
        "test_acc_best = 0\n",
        "PATH=\"/model.pt\"\n",
        "for epoch in range(max_epochs):\n",
        "\n",
        "    for i,data in enumerate(trainloader):\n",
        "        optimizer.zero_grad()\n",
        "        X,y = data\n",
        "        X = X.to(device)\n",
        "        y = y.to(device)\n",
        "        y_mapped = torch.tensor([class_mapping[label.item()] for label in y]).to(device)\n",
        "        # forward\n",
        "        outputs = net(X)\n",
        "        loss = criterion(outputs,y_mapped)\n",
        "        #backward\n",
        "        loss.backward()\n",
        "        optimizer.step()\n",
        "\n",
        "    with torch.no_grad():\n",
        "      train_pred = net(train_X)\n",
        "      train_correct = (train_pred.argmax(dim=1)==train_y).sum()\n",
        "      train_acc = train_correct / len(train_pred)\n",
        "\n",
        "      test_pred = net(test_X)\n",
        "      test_correct = (test_pred.argmax(dim=1)==test_y).sum()\n",
        "      test_acc = test_correct / len(test_pred)\n",
        "      if test_acc_best<test_acc:\n",
        "        test_acc_best = test_acc\n",
        "        torch.save(net.state_dict(),PATH)\n",
        "\n",
        "\n",
        "    print(f\"Epoch {epoch+1}/{max_epochs}, Train accuracy: {100*train_acc:.2f}%\")\n",
        "    print(f\"Epoch {epoch+1}/{max_epochs}, Test accuracy: {100*test_acc:.2f}%\\n\")"
      ]
    },
    {
      "cell_type": "code",
      "source": [
        "classes = ['car', 'dog', 'ship']\n",
        "net_best = Net(3*32*32)\n",
        "net_best.load_state_dict(torch.load(PATH))\n",
        "\n",
        "correct_pred = {classname: 0 for classname in classes}\n",
        "total_pred = {classname: 0 for classname in classes}\n",
        "\n",
        "with torch.no_grad():\n",
        "  for data in testloader:\n",
        "    images, labels = data\n",
        "    labels = torch.tensor([class_mapping[label.item()] for label in labels]).to(device)\n",
        "    test_outputs = net_best(images)\n",
        "    _, test_preds = torch.max(test_outputs,1)\n",
        "    for label,test_pred in zip(labels,test_preds):\n",
        "      if label==test_pred:\n",
        "        correct_pred[classes[label]]+=1\n",
        "      total_pred[classes[label]]+=1\n",
        "\n",
        "total_acc = 0\n",
        "for classname, correct_count in correct_pred.items():\n",
        "  acc = 100*float(correct_count)/total_pred[classname]\n",
        "  total_acc+=acc\n",
        "  print(f\"Accuracy for class:{classname:5s} is {acc:.2f} %\")\n",
        "\n",
        "print(f\"The overall test accuracy is {total_acc/3:.2f} %\")\n"
      ],
      "metadata": {
        "id": "Me-gHhtSAfoJ",
        "colab": {
          "base_uri": "https://localhost:8080/",
          "height": 0
        },
        "outputId": "79608746-5eb2-41dc-ccbd-facde82b8798"
      },
      "execution_count": 9,
      "outputs": [
        {
          "output_type": "stream",
          "name": "stdout",
          "text": [
            "Accuracy for class:car   is 82.40 %\n",
            "Accuracy for class:dog   is 89.70 %\n",
            "Accuracy for class:ship  is 80.40 %\n",
            "The overall test accuracy is 84.17 %\n"
          ]
        }
      ]
    },
    {
      "cell_type": "markdown",
      "source": [
        "On class dog the classifier performance best. The reason may be that the car dataset have more sufficient diversity for the classifier to distinguish features\"\n"
      ],
      "metadata": {
        "id": "iLn0qY7Iskzw"
      }
    }
  ],
  "metadata": {
    "kernelspec": {
      "display_name": "Python 3",
      "name": "python3"
    },
    "language_info": {
      "codemirror_mode": {
        "name": "ipython",
        "version": 3
      },
      "file_extension": ".py",
      "mimetype": "text/x-python",
      "name": "python",
      "nbconvert_exporter": "python",
      "pygments_lexer": "ipython3",
      "version": "3.9.7"
    },
    "colab": {
      "provenance": [],
      "gpuType": "T4"
    },
    "accelerator": "GPU"
  },
  "nbformat": 4,
  "nbformat_minor": 0
}